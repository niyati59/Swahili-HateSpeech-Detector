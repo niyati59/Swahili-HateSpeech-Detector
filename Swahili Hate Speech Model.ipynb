{
 "cells": [
  {
   "cell_type": "code",
   "execution_count": 38,
   "id": "f0ed867c-7476-4823-8865-848113696312",
   "metadata": {},
   "outputs": [
    {
     "name": "stdout",
     "output_type": "stream",
     "text": [
      "Accuracy: 0.62\n",
      "\n",
      "Classification Report:\n",
      "               precision    recall  f1-score   support\n",
      "\n",
      "\"Hate Speech\"       0.00      0.00      0.00         3\n",
      "   \"Non-Hate\"       0.11      0.50      0.18         2\n",
      "  Hate Speech       0.77      0.91      0.83        11\n",
      "     Non-Hate       0.91      0.56      0.69        18\n",
      "\n",
      "     accuracy                           0.62        34\n",
      "    macro avg       0.45      0.49      0.43        34\n",
      " weighted avg       0.74      0.62      0.65        34\n",
      "\n"
     ]
    }
   ],
   "source": [
    "import pandas as pd\n",
    "from sklearn.model_selection import train_test_split\n",
    "from sklearn.feature_extraction.text import CountVectorizer\n",
    "from sklearn.naive_bayes import MultinomialNB\n",
    "from sklearn.pipeline import make_pipeline\n",
    "from sklearn.metrics import classification_report, accuracy_score\n",
    "import tkinter as tk\n",
    "from tkinter import messagebox\n",
    "\n",
    "# Step 1: Load the Dataset from CSV\n",
    "df = pd.read_csv('SwahiliHateSpeech.csv')\n",
    "\n",
    "# Check for and handle NaN values\n",
    "if df.isnull().values.any():\n",
    "    print(\"Dataset contains NaN values. Handling them...\")\n",
    "    df = df.dropna()  # Drop rows with NaN values\n",
    "\n",
    "# Prepare features and labels\n",
    "X = df['Text']  # Feature: Text column\n",
    "y = df['Label']  # Label: Hate Speech or Non-Hate\n",
    "\n",
    "# Split the data into training and testing sets (80% train, 20% test)\n",
    "X_train, X_test, y_train, y_test = train_test_split(X, y, test_size=0.2, random_state=42)\n",
    "\n",
    "# Step 2: Create and Train the Model\n",
    "model = make_pipeline(CountVectorizer(), MultinomialNB())\n",
    "model.fit(X_train, y_train)\n",
    "\n",
    "# Step 3: Evaluate the Model\n",
    "y_pred = model.predict(X_test)\n",
    "accuracy = accuracy_score(y_test, y_pred)\n",
    "print(f\"Accuracy: {accuracy:.2f}\")\n",
    "print(\"\\nClassification Report:\")\n",
    "print(classification_report(y_test, y_pred))\n",
    "\n",
    "# Step 4: Develop Input Interface Using Tkinter\n",
    "def classify_text():\n",
    "    user_input = text_entry.get(\"1.0\", \"end-1c\")  # Get text from entry widget\n",
    "    prediction = model.predict([user_input])  # Make prediction\n",
    "    messagebox.showinfo(\"Prediction Result\", f\"Matokeo: {prediction[0]}\")  # Display result in a message box\n",
    "\n",
    "# Create the main window\n",
    "root = tk.Tk()\n",
    "root.title(\"Kiswahili Hate Speech Detection\")\n",
    "\n",
    "# Create a label\n",
    "label = tk.Label(root, text=\"Andika ujumbe wako hapa:\")\n",
    "label.pack()\n",
    "\n",
    "# Create a text entry widget\n",
    "text_entry = tk.Text(root, height=10, width=50)\n",
    "text_entry.pack()\n",
    "\n",
    "# Create a button to submit input\n",
    "submit_button = tk.Button(root, text=\"Tathmini\", command=classify_text)\n",
    "submit_button.pack()\n",
    "\n",
    "# Run the application\n",
    "root.mainloop()"
   ]
  },
  {
   "cell_type": "code",
   "execution_count": null,
   "id": "93b17fb4-d876-41be-be88-79dc8130dea5",
   "metadata": {},
   "outputs": [],
   "source": []
  }
 ],
 "metadata": {
  "kernelspec": {
   "display_name": "Python 3 (ipykernel)",
   "language": "python",
   "name": "python3"
  },
  "language_info": {
   "codemirror_mode": {
    "name": "ipython",
    "version": 3
   },
   "file_extension": ".py",
   "mimetype": "text/x-python",
   "name": "python",
   "nbconvert_exporter": "python",
   "pygments_lexer": "ipython3",
   "version": "3.12.4"
  }
 },
 "nbformat": 4,
 "nbformat_minor": 5
}
